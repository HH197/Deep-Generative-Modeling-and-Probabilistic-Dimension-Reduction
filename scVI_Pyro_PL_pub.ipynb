{
  "nbformat": 4,
  "nbformat_minor": 0,
  "metadata": {
    "colab": {
      "name": "scVI_Pyro_PL_pub.ipynb",
      "provenance": [],
      "collapsed_sections": [],
      "authorship_tag": "ABX9TyP096GfLMk56OPAymd49fxV"
    },
    "kernelspec": {
      "name": "python3",
      "display_name": "Python 3"
    },
    "language_info": {
      "name": "python"
    },
    "widgets": {
      "application/vnd.jupyter.widget-state+json": {
        "020c09f94e7e4e4c98a1b6ba77841d30": {
          "model_module": "@jupyter-widgets/controls",
          "model_name": "HBoxModel",
          "model_module_version": "1.5.0",
          "state": {
            "_view_name": "HBoxView",
            "_dom_classes": [],
            "_model_name": "HBoxModel",
            "_view_module": "@jupyter-widgets/controls",
            "_model_module_version": "1.5.0",
            "_view_count": null,
            "_view_module_version": "1.5.0",
            "box_style": "",
            "layout": "IPY_MODEL_bd1b8828d5ec49fd8e0e48e6b8a0c9fa",
            "_model_module": "@jupyter-widgets/controls",
            "children": [
              "IPY_MODEL_b1085b1ae6bc47daa6c04029cdd651ba",
              "IPY_MODEL_f616a4eed9794fa5b2b590aa9b468302",
              "IPY_MODEL_225559885c614eeea51f326ff56ac05b"
            ]
          }
        },
        "bd1b8828d5ec49fd8e0e48e6b8a0c9fa": {
          "model_module": "@jupyter-widgets/base",
          "model_name": "LayoutModel",
          "model_module_version": "1.2.0",
          "state": {
            "_view_name": "LayoutView",
            "grid_template_rows": null,
            "right": null,
            "justify_content": null,
            "_view_module": "@jupyter-widgets/base",
            "overflow": null,
            "_model_module_version": "1.2.0",
            "_view_count": null,
            "flex_flow": "row wrap",
            "width": "100%",
            "min_width": null,
            "border": null,
            "align_items": null,
            "bottom": null,
            "_model_module": "@jupyter-widgets/base",
            "top": null,
            "grid_column": null,
            "overflow_y": null,
            "overflow_x": null,
            "grid_auto_flow": null,
            "grid_area": null,
            "grid_template_columns": null,
            "flex": null,
            "_model_name": "LayoutModel",
            "justify_items": null,
            "grid_row": null,
            "max_height": null,
            "align_content": null,
            "visibility": null,
            "align_self": null,
            "height": null,
            "min_height": null,
            "padding": null,
            "grid_auto_rows": null,
            "grid_gap": null,
            "max_width": null,
            "order": null,
            "_view_module_version": "1.2.0",
            "grid_template_areas": null,
            "object_position": null,
            "object_fit": null,
            "grid_auto_columns": null,
            "margin": null,
            "display": "inline-flex",
            "left": null
          }
        },
        "b1085b1ae6bc47daa6c04029cdd651ba": {
          "model_module": "@jupyter-widgets/controls",
          "model_name": "HTMLModel",
          "model_module_version": "1.5.0",
          "state": {
            "_view_name": "HTMLView",
            "style": "IPY_MODEL_915e4e80740c475ba38f347bef8fc852",
            "_dom_classes": [],
            "description": "",
            "_model_name": "HTMLModel",
            "placeholder": "​",
            "_view_module": "@jupyter-widgets/controls",
            "_model_module_version": "1.5.0",
            "value": "Epoch 49: 100%",
            "_view_count": null,
            "_view_module_version": "1.5.0",
            "description_tooltip": null,
            "_model_module": "@jupyter-widgets/controls",
            "layout": "IPY_MODEL_aab3f432dcc342baacb7d19d62121616"
          }
        },
        "f616a4eed9794fa5b2b590aa9b468302": {
          "model_module": "@jupyter-widgets/controls",
          "model_name": "FloatProgressModel",
          "model_module_version": "1.5.0",
          "state": {
            "_view_name": "ProgressView",
            "style": "IPY_MODEL_80544f1603c24514bf84de75f75e7f94",
            "_dom_classes": [],
            "description": "",
            "_model_name": "FloatProgressModel",
            "bar_style": "success",
            "max": 18,
            "_view_module": "@jupyter-widgets/controls",
            "_model_module_version": "1.5.0",
            "value": 18,
            "_view_count": null,
            "_view_module_version": "1.5.0",
            "orientation": "horizontal",
            "min": 0,
            "description_tooltip": null,
            "_model_module": "@jupyter-widgets/controls",
            "layout": "IPY_MODEL_80d973feda59402b95d7be9111234e17"
          }
        },
        "225559885c614eeea51f326ff56ac05b": {
          "model_module": "@jupyter-widgets/controls",
          "model_name": "HTMLModel",
          "model_module_version": "1.5.0",
          "state": {
            "_view_name": "HTMLView",
            "style": "IPY_MODEL_dcd041c7a21e4e569ecbad884b05ed6d",
            "_dom_classes": [],
            "description": "",
            "_model_name": "HTMLModel",
            "placeholder": "​",
            "_view_module": "@jupyter-widgets/controls",
            "_model_module_version": "1.5.0",
            "value": " 18/18 [00:00&lt;00:00, 25.17it/s, loss=1.87e+03, v_num=12]",
            "_view_count": null,
            "_view_module_version": "1.5.0",
            "description_tooltip": null,
            "_model_module": "@jupyter-widgets/controls",
            "layout": "IPY_MODEL_caf1490fefb644b49d9df5dd441dfcb1"
          }
        },
        "915e4e80740c475ba38f347bef8fc852": {
          "model_module": "@jupyter-widgets/controls",
          "model_name": "DescriptionStyleModel",
          "model_module_version": "1.5.0",
          "state": {
            "_view_name": "StyleView",
            "_model_name": "DescriptionStyleModel",
            "description_width": "",
            "_view_module": "@jupyter-widgets/base",
            "_model_module_version": "1.5.0",
            "_view_count": null,
            "_view_module_version": "1.2.0",
            "_model_module": "@jupyter-widgets/controls"
          }
        },
        "aab3f432dcc342baacb7d19d62121616": {
          "model_module": "@jupyter-widgets/base",
          "model_name": "LayoutModel",
          "model_module_version": "1.2.0",
          "state": {
            "_view_name": "LayoutView",
            "grid_template_rows": null,
            "right": null,
            "justify_content": null,
            "_view_module": "@jupyter-widgets/base",
            "overflow": null,
            "_model_module_version": "1.2.0",
            "_view_count": null,
            "flex_flow": null,
            "width": null,
            "min_width": null,
            "border": null,
            "align_items": null,
            "bottom": null,
            "_model_module": "@jupyter-widgets/base",
            "top": null,
            "grid_column": null,
            "overflow_y": null,
            "overflow_x": null,
            "grid_auto_flow": null,
            "grid_area": null,
            "grid_template_columns": null,
            "flex": null,
            "_model_name": "LayoutModel",
            "justify_items": null,
            "grid_row": null,
            "max_height": null,
            "align_content": null,
            "visibility": null,
            "align_self": null,
            "height": null,
            "min_height": null,
            "padding": null,
            "grid_auto_rows": null,
            "grid_gap": null,
            "max_width": null,
            "order": null,
            "_view_module_version": "1.2.0",
            "grid_template_areas": null,
            "object_position": null,
            "object_fit": null,
            "grid_auto_columns": null,
            "margin": null,
            "display": null,
            "left": null
          }
        },
        "80544f1603c24514bf84de75f75e7f94": {
          "model_module": "@jupyter-widgets/controls",
          "model_name": "ProgressStyleModel",
          "model_module_version": "1.5.0",
          "state": {
            "_view_name": "StyleView",
            "_model_name": "ProgressStyleModel",
            "description_width": "",
            "_view_module": "@jupyter-widgets/base",
            "_model_module_version": "1.5.0",
            "_view_count": null,
            "_view_module_version": "1.2.0",
            "bar_color": null,
            "_model_module": "@jupyter-widgets/controls"
          }
        },
        "80d973feda59402b95d7be9111234e17": {
          "model_module": "@jupyter-widgets/base",
          "model_name": "LayoutModel",
          "model_module_version": "1.2.0",
          "state": {
            "_view_name": "LayoutView",
            "grid_template_rows": null,
            "right": null,
            "justify_content": null,
            "_view_module": "@jupyter-widgets/base",
            "overflow": null,
            "_model_module_version": "1.2.0",
            "_view_count": null,
            "flex_flow": null,
            "width": null,
            "min_width": null,
            "border": null,
            "align_items": null,
            "bottom": null,
            "_model_module": "@jupyter-widgets/base",
            "top": null,
            "grid_column": null,
            "overflow_y": null,
            "overflow_x": null,
            "grid_auto_flow": null,
            "grid_area": null,
            "grid_template_columns": null,
            "flex": "2",
            "_model_name": "LayoutModel",
            "justify_items": null,
            "grid_row": null,
            "max_height": null,
            "align_content": null,
            "visibility": null,
            "align_self": null,
            "height": null,
            "min_height": null,
            "padding": null,
            "grid_auto_rows": null,
            "grid_gap": null,
            "max_width": null,
            "order": null,
            "_view_module_version": "1.2.0",
            "grid_template_areas": null,
            "object_position": null,
            "object_fit": null,
            "grid_auto_columns": null,
            "margin": null,
            "display": null,
            "left": null
          }
        },
        "dcd041c7a21e4e569ecbad884b05ed6d": {
          "model_module": "@jupyter-widgets/controls",
          "model_name": "DescriptionStyleModel",
          "model_module_version": "1.5.0",
          "state": {
            "_view_name": "StyleView",
            "_model_name": "DescriptionStyleModel",
            "description_width": "",
            "_view_module": "@jupyter-widgets/base",
            "_model_module_version": "1.5.0",
            "_view_count": null,
            "_view_module_version": "1.2.0",
            "_model_module": "@jupyter-widgets/controls"
          }
        },
        "caf1490fefb644b49d9df5dd441dfcb1": {
          "model_module": "@jupyter-widgets/base",
          "model_name": "LayoutModel",
          "model_module_version": "1.2.0",
          "state": {
            "_view_name": "LayoutView",
            "grid_template_rows": null,
            "right": null,
            "justify_content": null,
            "_view_module": "@jupyter-widgets/base",
            "overflow": null,
            "_model_module_version": "1.2.0",
            "_view_count": null,
            "flex_flow": null,
            "width": null,
            "min_width": null,
            "border": null,
            "align_items": null,
            "bottom": null,
            "_model_module": "@jupyter-widgets/base",
            "top": null,
            "grid_column": null,
            "overflow_y": null,
            "overflow_x": null,
            "grid_auto_flow": null,
            "grid_area": null,
            "grid_template_columns": null,
            "flex": null,
            "_model_name": "LayoutModel",
            "justify_items": null,
            "grid_row": null,
            "max_height": null,
            "align_content": null,
            "visibility": null,
            "align_self": null,
            "height": null,
            "min_height": null,
            "padding": null,
            "grid_auto_rows": null,
            "grid_gap": null,
            "max_width": null,
            "order": null,
            "_view_module_version": "1.2.0",
            "grid_template_areas": null,
            "object_position": null,
            "object_fit": null,
            "grid_auto_columns": null,
            "margin": null,
            "display": null,
            "left": null
          }
        }
      }
    }
  },
  "cells": [
    {
      "cell_type": "markdown",
      "metadata": {
        "id": "4_mPy5U5nYFQ"
      },
      "source": [
        "# New Implementation of scvi using Pyro and Pytorch Lightning"
      ]
    },
    {
      "cell_type": "markdown",
      "source": [
        "[![Open In Colab](https://colab.research.google.com/assets/colab-badge.svg)](https://colab.research.google.com/drive/1t-bIqX3_Nz4qOIjZ8wzNY6QzBt71y4GX?usp=sharing)"
      ],
      "metadata": {
        "id": "PAeUNSgTnKZb"
      }
    },
    {
      "cell_type": "markdown",
      "source": [
        "This is the re-implementation of the [scVI](https://www.nature.com/articles/s41592-018-0229-2) tool developed by Lopez *et al*. I will use [Pyro](https://pyro.ai/), [PyTorch Lightning](https://www.pytorchlightning.ai/), and Pytorch to re-implement their implementation. Using these libraries has resulted in fewer lines of code, more efficiency, and reliability."
      ],
      "metadata": {
        "id": "Kkb2RVJswAfL"
      }
    },
    {
      "cell_type": "markdown",
      "source": [
        "The Lightning and Pyro are not installed in Google Colab by default:"
      ],
      "metadata": {
        "id": "ZglSLw8bCj1r"
      }
    },
    {
      "cell_type": "code",
      "metadata": {
        "id": "tiVASW0zA6mr"
      },
      "source": [
        "!pip install pytorch-lightning\n",
        "!pip install pyro-ppl"
      ],
      "execution_count": null,
      "outputs": []
    },
    {
      "cell_type": "code",
      "metadata": {
        "id": "YnnIEK31GDE7"
      },
      "source": [
        "import numpy as np \n",
        "import torch \n",
        "import torch.nn as nn\n",
        "import pandas as pd \n",
        "from google.colab import drive \n",
        "\n",
        "from torch.distributions import kl_divergence as kl\n",
        "from sklearn.cluster import KMeans\n",
        "from sklearn import metrics\n",
        "import seaborn as sn\n",
        "from matplotlib import pyplot as plt\n",
        "\n",
        "import pytorch_lightning as pl \n",
        "import pyro"
      ],
      "execution_count": null,
      "outputs": []
    },
    {
      "cell_type": "markdown",
      "source": [
        "Mounting Google Drive so that I can read and write from GDrive."
      ],
      "metadata": {
        "id": "7YGOfnHvCyYN"
      }
    },
    {
      "cell_type": "code",
      "metadata": {
        "colab": {
          "base_uri": "https://localhost:8080/"
        },
        "id": "rHcSTxMT0xcg",
        "outputId": "685ef6de-f951-41bf-df64-493ff35824bf"
      },
      "source": [
        "drive.mount('/content/gdrive')\n",
        "base_dir = '/content/gdrive/My Drive/SL_project/'"
      ],
      "execution_count": null,
      "outputs": [
        {
          "output_type": "stream",
          "text": [
            "Mounted at /content/gdrive\n"
          ],
          "name": "stdout"
        }
      ]
    },
    {
      "cell_type": "markdown",
      "source": [
        "I used the [mouse cortex data](https://www.science.org/doi/10.1126/science.aaa1934) published by Zeisel *et al.* to test the performance of the tool and to compare my implementation with the original implementation. Because this data set has cell type labels, it is ideal for testing the Clustering performance of the tool."
      ],
      "metadata": {
        "id": "VCAGkuYrJ13r"
      }
    },
    {
      "cell_type": "code",
      "metadata": {
        "id": "xVAirq7V19yT"
      },
      "source": [
        "df = pd.read_csv(base_dir + 'Zeisel.zip', compression='zip', delimiter= '\\t', low_memory=False)\n",
        "# Groups of cells, i.e. labels\n",
        "Groups = df.iloc[0,]\n",
        "# print(Groups.value_counts())\n",
        "Groups = Groups.values[2:]"
      ],
      "execution_count": null,
      "outputs": []
    },
    {
      "cell_type": "code",
      "metadata": {
        "colab": {
          "base_uri": "https://localhost:8080/"
        },
        "id": "thrF2zrN2B3Q",
        "outputId": "e9942abd-cf7c-4f13-fa4e-842481c10854"
      },
      "source": [
        "df1 = df.iloc[10:]\n",
        "df1.drop(['tissue', 'Unnamed: 0'], inplace=True, axis=1)\n",
        "df1 = df1.astype(int)\n",
        "df1.shape"
      ],
      "execution_count": null,
      "outputs": [
        {
          "output_type": "stream",
          "text": [
            "/usr/local/lib/python3.7/dist-packages/pandas/core/frame.py:4174: SettingWithCopyWarning: \n",
            "A value is trying to be set on a copy of a slice from a DataFrame\n",
            "\n",
            "See the caveats in the documentation: https://pandas.pydata.org/pandas-docs/stable/user_guide/indexing.html#returning-a-view-versus-a-copy\n",
            "  errors=errors,\n"
          ],
          "name": "stderr"
        },
        {
          "output_type": "execute_result",
          "data": {
            "text/plain": [
              "(19972, 3005)"
            ]
          },
          "metadata": {},
          "execution_count": 5
        }
      ]
    },
    {
      "cell_type": "code",
      "metadata": {
        "colab": {
          "base_uri": "https://localhost:8080/"
        },
        "id": "rz6iu4CH2FEM",
        "outputId": "2b079699-35f4-4d8e-ec37-cfdce9ac9659"
      },
      "source": [
        "rows = np.count_nonzero(df1, axis=1) > 0 # choosing genes that are transcribed in more than 25 cells\n",
        "df2 = df1[np.ndarray.tolist(rows)]\n",
        "# df2 += 1\n",
        "data = np.ndarray.astype(df2.values, np.float)\n",
        "# data = np.log10(data)  # log transforming the data\n",
        "data.shape"
      ],
      "execution_count": null,
      "outputs": [
        {
          "output_type": "execute_result",
          "data": {
            "text/plain": [
              "(19972, 3005)"
            ]
          },
          "metadata": {},
          "execution_count": 6
        }
      ]
    },
    {
      "cell_type": "code",
      "metadata": {
        "id": "U831s3R8F_E8"
      },
      "source": [
        "# permutation\n",
        "# permutation\n",
        "n_genes = 558 # selecting the number of genes, i.e. number of features\n",
        "\n",
        "# np.random.seed(197)\n",
        "\n",
        "Groups = df.iloc[0,] \n",
        "Groups = Groups.values[2:]\n",
        "\n",
        "rows = np.argsort(np.var(data, axis = 1)*-1) # sorting the data based on the variance\n",
        "df2 = data[rows,:]\n",
        "df3 = df2[0:n_genes, :] # choosing high variable genes \n",
        "\n",
        "p = np.random.permutation(df3.shape[0])\n",
        "df3[:,:] = df3[p,:]\n",
        "\n",
        "p = np.random.permutation(df3.shape[1])\n",
        "df3[:,:] = df3[:,p]\n",
        "\n",
        "Groups = Groups[p]\n",
        "df2_tensor = df3.T\n",
        "\n",
        "expression_train = df2_tensor[0:2253,:]\n",
        "expression_test = df2_tensor[2253:,:]\n",
        "\n",
        "expression_train = torch.tensor(expression_train).float()\n",
        "expression_test = torch.tensor(expression_test).float()\n",
        "\n",
        "expression = torch.tensor(df2_tensor) #whole data set\n",
        "expression = expression.float()\n",
        "# df2_tensor.shape"
      ],
      "execution_count": null,
      "outputs": []
    },
    {
      "cell_type": "code",
      "metadata": {
        "id": "oxhB877Dns5Z"
      },
      "source": [
        "def compute_library_size(x, batch = None, batch_num = None):\n",
        "  # returns library mean and variance which are the batch (single cell batch not deeplearing batch!)variance and mean.\n",
        "\n",
        "  # for the input without batch number\n",
        "  if batch is None:\n",
        "    batch = 1\n",
        "  if batch_num is None: \n",
        "    batch_num = torch.ones([1, x.shape[0]], dtype= int)\n",
        "  \n",
        "  y = x[torch.ones([x.shape[0]], dtype= int) == 1]\n",
        "  \n",
        "  local_mean = y.mean(1)\n",
        "  local_var = y.var(1)\n",
        "\n",
        "  return local_mean, local_var"
      ],
      "execution_count": null,
      "outputs": []
    },
    {
      "cell_type": "markdown",
      "metadata": {
        "id": "oMczZfGCKaCW"
      },
      "source": [
        "An NN class that can define fully connected networks with differnt activation functions:"
      ]
    },
    {
      "cell_type": "code",
      "metadata": {
        "id": "jSgzngFQZkCv"
      },
      "source": [
        "class NN(nn.Module): \n",
        "\n",
        "  def __init__(self, layers, bn, act = 'ReLU', dropout= 0.1, bias = True): \n",
        "    \n",
        "    # use_batch_norm, use_layer_norm, dropout should be added to the model\n",
        "\n",
        "    super().__init__()\n",
        "\n",
        "    layer_list = [] \n",
        "    len_net = len(layers)\n",
        "    \n",
        "    if type(act) is not list:\n",
        "      act = [act]\n",
        "      act = act * len_net\n",
        "    \n",
        "    if len(act) != len_net:\n",
        "      act = act*len_net\n",
        "\n",
        "    for i in range(len_net-1): \n",
        "\n",
        "      layer_list.append(nn.Linear(layers[i], layers[i+1], bias = bias))\n",
        "      \n",
        "      if bn:\n",
        "         layer_list.append(\n",
        "             nn.BatchNorm1d(layers[i+1], momentum=0.01, eps=0.001))\n",
        "      \n",
        "      act_str = act[i]\n",
        "      act_function = getattr(nn, act_str)()\n",
        "      layer_list.append(act_function)\n",
        "\n",
        "      if dropout > 0:\n",
        "        layer_list.append(nn.Dropout(p=dropout))\n",
        "\n",
        "    self.network = nn.Sequential(*layer_list)\n",
        "\n",
        "  def forward(self, x):\n",
        "    return self.network(x)\n",
        "  "
      ],
      "execution_count": null,
      "outputs": []
    },
    {
      "cell_type": "code",
      "metadata": {
        "id": "goV_zWW3nV7g"
      },
      "source": [
        "class encoder(nn.Module):\n",
        "  \n",
        "  def __init__(\n",
        "      self, \n",
        "      layers, \n",
        "      n_output,\n",
        "      bn,\n",
        "      dist = None, # defualt is Normal   \n",
        "      dropout = 0.1, \n",
        "      eps_var = 0.0001): \n",
        "\n",
        "    super().__init__()\n",
        "\n",
        "    self.FC = NN(layers, bn)\n",
        "    self.en_mean = nn.Linear(layers[-1], n_output)\n",
        "    self.en_var = nn.Linear(layers[-1], n_output)\n",
        "\n",
        "    if dist is None: \n",
        "      self.dist = torch.distributions.Normal\n",
        "    else:\n",
        "      self.dist = getattr(torch.distributions, dist)\n",
        "\n",
        "    \n",
        "  def forward(self, x, eps_var = 1e-4):\n",
        "    latent = self.FC(x)\n",
        "    latent_m = self.en_mean(latent)\n",
        "    latent_v = torch.exp(self.en_var(latent)) + eps_var\n",
        "    \n",
        "    out = self.dist(latent_m, latent_v.sqrt()).rsample()\n",
        "\n",
        "    return latent_m, latent_v, out"
      ],
      "execution_count": null,
      "outputs": []
    },
    {
      "cell_type": "code",
      "metadata": {
        "id": "B0hBLDIXnf_t"
      },
      "source": [
        "class decoder(nn.Module):\n",
        "\n",
        "  def __init__(\n",
        "      self, \n",
        "      layers,\n",
        "      n_output, \n",
        "      bn,\n",
        "      act = 'ReLU',\n",
        "      dropout = 0.1):\n",
        "    \n",
        "    super().__init__()\n",
        "\n",
        "    self.fw = NN(layers, bn, act, dropout)\n",
        "    self.scale_library = nn.Sequential(nn.Linear(layers[-1], n_output),\n",
        "                                       nn.Softmax(dim=-1))\n",
        "    self.dropout_decoder = nn.Linear(layers[-1], n_output)\n",
        "    self.r_decoder = nn.Sequential(nn.Linear(layers[-1], n_output), nn.ReLU())\n",
        "\n",
        "  def forward(self, z, library):\n",
        "\n",
        "    fw = self.fw(z)\n",
        "    scale = self.scale_library(fw)\n",
        "    dropout = self.dropout_decoder(fw)\n",
        "    px_rate = torch.exp(library)* scale\n",
        "    # rate = scale\n",
        "    px_r = self.r_decoder(fw)\n",
        "\n",
        "    return scale, px_r, px_rate, dropout\n"
      ],
      "execution_count": null,
      "outputs": []
    },
    {
      "cell_type": "markdown",
      "metadata": {
        "id": "HA6Mqirpoqr8"
      },
      "source": [
        "###The parameters and their meaning\n"
      ]
    },
    {
      "cell_type": "markdown",
      "metadata": {
        "id": "7HrSOO39eWlM"
      },
      "source": [
        "So, I think here the `px_r` is $\\theta$ and `px_rate` is $\\mu$ in their implementation. \n",
        "\n",
        "- `px_r` is the dispersion, the $\\theta$, or so called $r$ (the number of failures before success).\n",
        "\n",
        "In the scvi's original implementation, the Negative Binomial is as following: \n",
        "\n",
        "$$\n",
        "p_{NB}(n,\\theta, \\mu) = \\frac{\\Gamma(n+\\theta)}{\\Gamma(n+1)\\Gamma(\\theta)}\\left(\\frac{\\theta}{\\theta+\\mu}\\right)^\\theta \\left(\\frac{\\mu}{\\theta+\\mu}\\right)^n\n",
        "$$\n",
        "\n",
        "However, in the Pyro's implementation, the Negative Binomial is as following: \n",
        "\n",
        "\n",
        "$$\n",
        "p_{NB}(n,r, p) = \\frac{\\Gamma(n+r)}{\\Gamma(n+1)\\Gamma(r)}\\left(p\\right)^n \\left(1-p\\right)^r\n",
        "$$\n",
        "\n",
        "Therefore, the $p$ would be: $$p = \\frac{\\mu}{\\theta+\\mu}$$\n",
        "\n",
        "Consequently, I used Pyro's API as following:\n",
        "\n",
        "`p = px_r/(px_r + px_rate)`\n",
        "\n",
        "`zinb = pyro.distributions.ZeroInflatedNegativeBinomial(total_count=px_r, probs=p, gate_logits=px_dropout)`\n",
        "\n",
        "\n",
        "Now, the problem here is with vaiable `p` constraints which should be in interval $[0,1)$. Some of the values in `p` would be equal to 1. To avoid this issue and for numerical stability, I used the following technique:"
      ]
    },
    {
      "cell_type": "markdown",
      "metadata": {
        "id": "LtOXVU-75hus"
      },
      "source": [
        "I have added an $\\epsilon = 10^{-4}$ in the $p$'s equation: \n",
        "\n",
        "$$p = \\frac{\\mu}{\\theta+\\mu + \\epsilon}$$\n",
        "\n",
        "So in the code: `p = px_r/(px_r + px_rate + 1e-4)`"
      ]
    },
    {
      "cell_type": "code",
      "metadata": {
        "id": "i_ClrQhLno7-"
      },
      "source": [
        "class scVI(pl.LightningModule):\n",
        "  def __init__(self, \n",
        "               n_genes, \n",
        "               bn_en,  \n",
        "               bn_de,\n",
        "               latent_l = 1,\n",
        "               latent_z = 10): \n",
        "    super().__init__()\n",
        "    layers = [n_genes, 128]\n",
        "    self.z_encoder = encoder(layers, latent_z, bn_en)\n",
        "    self.l_encoder = encoder(layers, latent_l, bn_en)\n",
        "\n",
        "    layers = [latent_z, 128]\n",
        "    self.decoder = decoder(layers, n_genes, bn_de, dropout=0)\n",
        "\n",
        "    # params = list(z_encoder.parameters()) + list(l_encoder.parameters()) + list(scVI_decoder.parameters())\n",
        "  \n",
        "  def forward(self, x):\n",
        "\n",
        "      qz_m, qz_v, z = self.z_encoder(x)\n",
        "      ql_m, ql_v, library = self.l_encoder(x)\n",
        "      \n",
        "      px_scale, px_r, px_rate, px_dropout = self.decoder(z, library)\n",
        "      px_r = torch.exp(px_r)\n",
        "      \n",
        "      return qz_m, qz_v, z, ql_m, ql_v, library, px_scale, px_r, px_rate, px_dropout\n",
        "\n",
        "\n",
        "  def training_step(self, batch, batch_idx):\n",
        "    (x,) = batch\n",
        "\n",
        "    qz_m, qz_v, z, ql_m, ql_v, library, px_scale, px_r, px_rate, px_dropout = self(x)\n",
        "    \n",
        "    mean = torch.zeros_like(qz_m)\n",
        "    scale = torch.ones_like(qz_v)\n",
        "\n",
        "    local_mean, local_var = compute_library_size(x)\n",
        "\n",
        "    kl_divergence_z = kl(torch.distributions.Normal(qz_m, torch.sqrt(qz_v)),\n",
        "                        torch.distributions.Normal(mean, scale)).sum(dim=1)\n",
        "\n",
        "    kl_divergence_l = kl(\n",
        "          torch.distributions.Normal(ql_m, torch.sqrt(ql_v)),\n",
        "          torch.distributions.Normal(local_mean, torch.sqrt(local_var)),\n",
        "      ).sum(dim=1)\n",
        "    \n",
        "\n",
        "    p = px_r/(px_r + px_rate + 1e-4)  \n",
        "    zinb = pyro.distributions.ZeroInflatedNegativeBinomial(total_count=px_r, probs=p, gate_logits=px_dropout)\n",
        "    r_loss = -zinb.log_prob(x).sum(dim=-1)\n",
        "    \n",
        "    \n",
        "    loss = torch.mean(r_loss + kl_divergence_l + kl_divergence_z)\n",
        "    self.log('loss', loss.item(), on_epoch = True, on_step = False)\n",
        "\n",
        "    return loss \n",
        "\n",
        "  def configure_optimizers(self):\n",
        "\n",
        "    return torch.optim.Adam(self.parameters(), lr = 0.001, eps= 0.1)"
      ],
      "execution_count": null,
      "outputs": []
    },
    {
      "cell_type": "code",
      "metadata": {
        "id": "GQptbqYVKPwh"
      },
      "source": [
        "def init_weights(m):\n",
        "    if isinstance(m, nn.Linear):\n",
        "        nn.init.trunc_normal_(m.weight.data, 0, 0.01, -0.02, 0.02)"
      ],
      "execution_count": null,
      "outputs": []
    },
    {
      "cell_type": "code",
      "metadata": {
        "id": "Rhyiv5kAmKwu"
      },
      "source": [
        "ds = torch.utils.data.TensorDataset(expression_train)\n",
        "dl = torch.utils.data.DataLoader(ds, batch_size=128, shuffle=True)"
      ],
      "execution_count": null,
      "outputs": []
    },
    {
      "cell_type": "code",
      "metadata": {
        "colab": {
          "base_uri": "https://localhost:8080/",
          "height": 364,
          "referenced_widgets": [
            "020c09f94e7e4e4c98a1b6ba77841d30",
            "bd1b8828d5ec49fd8e0e48e6b8a0c9fa",
            "b1085b1ae6bc47daa6c04029cdd651ba",
            "f616a4eed9794fa5b2b590aa9b468302",
            "225559885c614eeea51f326ff56ac05b",
            "915e4e80740c475ba38f347bef8fc852",
            "aab3f432dcc342baacb7d19d62121616",
            "80544f1603c24514bf84de75f75e7f94",
            "80d973feda59402b95d7be9111234e17",
            "dcd041c7a21e4e569ecbad884b05ed6d",
            "caf1490fefb644b49d9df5dd441dfcb1"
          ]
        },
        "id": "axnzcQaEwQoT",
        "outputId": "5abe9553-201b-43d1-98db-9c4880027fdd"
      },
      "source": [
        "model = scVI(n_genes, True, True)\n",
        "model.apply(init_weights)\n",
        "logger = pl.loggers.CSVLogger(\"./logs\")\n",
        "trainer = pl.Trainer(max_epochs=50, logger= logger)\n",
        "trainer.fit(model, dl)"
      ],
      "execution_count": null,
      "outputs": [
        {
          "output_type": "stream",
          "text": [
            "GPU available: False, used: False\n",
            "TPU available: False, using: 0 TPU cores\n",
            "IPU available: False, using: 0 IPUs\n",
            "\n",
            "  | Name      | Type    | Params\n",
            "--------------------------------------\n",
            "0 | z_encoder | encoder | 74.4 K\n",
            "1 | l_encoder | encoder | 72.1 K\n",
            "2 | decoder   | decoder | 217 K \n",
            "--------------------------------------\n",
            "364 K     Trainable params\n",
            "0         Non-trainable params\n",
            "364 K     Total params\n",
            "1.456     Total estimated model params size (MB)\n",
            "/usr/local/lib/python3.7/dist-packages/pytorch_lightning/trainer/data_loading.py:323: UserWarning: The number of training samples (18) is smaller than the logging interval Trainer(log_every_n_steps=50). Set a lower value for log_every_n_steps if you want to see logs for the training epoch.\n",
            "  f\"The number of training samples ({self.num_training_batches}) is smaller than the logging interval\"\n"
          ],
          "name": "stderr"
        },
        {
          "output_type": "display_data",
          "data": {
            "application/vnd.jupyter.widget-view+json": {
              "model_id": "020c09f94e7e4e4c98a1b6ba77841d30",
              "version_minor": 0,
              "version_major": 2
            },
            "text/plain": [
              "Training: -1it [00:00, ?it/s]"
            ]
          },
          "metadata": {}
        }
      ]
    },
    {
      "cell_type": "code",
      "metadata": {
        "id": "hU2Nor_wVGuQ"
      },
      "source": [
        "df = pd.read_csv(f\"/content/logs/default/version_{logger.version}/metrics.csv\")"
      ],
      "execution_count": null,
      "outputs": []
    },
    {
      "cell_type": "code",
      "metadata": {
        "colab": {
          "base_uri": "https://localhost:8080/",
          "height": 206
        },
        "id": "Yk4reqB_5e2M",
        "outputId": "948603ee-a7d8-4c72-d7a7-13611a28378c"
      },
      "source": [
        "df.head()"
      ],
      "execution_count": null,
      "outputs": [
        {
          "output_type": "execute_result",
          "data": {
            "text/html": [
              "<div>\n",
              "<style scoped>\n",
              "    .dataframe tbody tr th:only-of-type {\n",
              "        vertical-align: middle;\n",
              "    }\n",
              "\n",
              "    .dataframe tbody tr th {\n",
              "        vertical-align: top;\n",
              "    }\n",
              "\n",
              "    .dataframe thead th {\n",
              "        text-align: right;\n",
              "    }\n",
              "</style>\n",
              "<table border=\"1\" class=\"dataframe\">\n",
              "  <thead>\n",
              "    <tr style=\"text-align: right;\">\n",
              "      <th></th>\n",
              "      <th>loss</th>\n",
              "      <th>epoch</th>\n",
              "      <th>step</th>\n",
              "    </tr>\n",
              "  </thead>\n",
              "  <tbody>\n",
              "    <tr>\n",
              "      <th>0</th>\n",
              "      <td>3037.415771</td>\n",
              "      <td>0</td>\n",
              "      <td>17</td>\n",
              "    </tr>\n",
              "    <tr>\n",
              "      <th>1</th>\n",
              "      <td>2706.208740</td>\n",
              "      <td>1</td>\n",
              "      <td>35</td>\n",
              "    </tr>\n",
              "    <tr>\n",
              "      <th>2</th>\n",
              "      <td>2391.257324</td>\n",
              "      <td>2</td>\n",
              "      <td>53</td>\n",
              "    </tr>\n",
              "    <tr>\n",
              "      <th>3</th>\n",
              "      <td>2165.448730</td>\n",
              "      <td>3</td>\n",
              "      <td>71</td>\n",
              "    </tr>\n",
              "    <tr>\n",
              "      <th>4</th>\n",
              "      <td>2079.818115</td>\n",
              "      <td>4</td>\n",
              "      <td>89</td>\n",
              "    </tr>\n",
              "  </tbody>\n",
              "</table>\n",
              "</div>"
            ],
            "text/plain": [
              "          loss  epoch  step\n",
              "0  3037.415771      0    17\n",
              "1  2706.208740      1    35\n",
              "2  2391.257324      2    53\n",
              "3  2165.448730      3    71\n",
              "4  2079.818115      4    89"
            ]
          },
          "metadata": {},
          "execution_count": 135
        }
      ]
    },
    {
      "cell_type": "code",
      "metadata": {
        "id": "FpD17rNWKD-Z",
        "colab": {
          "base_uri": "https://localhost:8080/",
          "height": 307
        },
        "outputId": "22952c8e-f6ca-4d75-9be2-2fc684c89698"
      },
      "source": [
        "plt.plot(df.epoch, df.loss)"
      ],
      "execution_count": null,
      "outputs": [
        {
          "output_type": "execute_result",
          "data": {
            "text/plain": [
              "[<matplotlib.lines.Line2D at 0x7fe23a27e710>]"
            ]
          },
          "metadata": {},
          "execution_count": 136
        },
        {
          "output_type": "display_data",
          "data": {
            "image/png": "[encoded data removed]",
            "text/plain": [
              "<Figure size 432x288 with 1 Axes>"
            ]
          },
          "metadata": {}
        }
      ]
    },
    {
      "cell_type": "markdown",
      "metadata": {
        "id": "KeJYO9LdLbBI"
      },
      "source": [
        "## Downstream analyses\n",
        "\n",
        "###Clustering"
      ]
    },
    {
      "cell_type": "code",
      "metadata": {
        "id": "i8_C9zcawoVv"
      },
      "source": [
        "with torch.no_grad(): \n",
        "  qz_m, qz_v, z, ql_m, ql_v, library, px_scale, px_r, px_rate, px_dropout = model(expression)"
      ],
      "execution_count": null,
      "outputs": []
    },
    {
      "cell_type": "code",
      "metadata": {
        "id": "f5U4qYubwuV2"
      },
      "source": [
        "# performing K-means on the encoded data\n",
        "silhouette_coefficients = []\n",
        "kmeans_kwargs = {\"init\": \"random\", \"n_init\": 50, \"max_iter\": 400, \"random_state\": 197}\n",
        "\n",
        "\n",
        "for k in range(2, 10):\n",
        "    kmeans = KMeans(n_clusters=k, **kmeans_kwargs)\n",
        "    kmeans.fit(z)\n",
        "    # score = kmeans.inertia_\n",
        "    score = metrics.silhouette_score(z, kmeans.labels_)\n",
        "    silhouette_coefficients.append(score)"
      ],
      "execution_count": null,
      "outputs": []
    },
    {
      "cell_type": "markdown",
      "source": [
        "Since the task is an unsupervised task, we do not know the true number of the clusters. Therefore, one has to choose the optimal number of clusters when using the tool for a new data set without labels. Here, the so called Silhouette plot is used to find the optimum number of clusters. The clustering is performed on the latent variable of the network (the `z`) becuase the network is designed in a way to capture all bilogical variations in `z`. "
      ],
      "metadata": {
        "id": "3q4BYV42RFeI"
      }
    },
    {
      "cell_type": "code",
      "metadata": {
        "colab": {
          "base_uri": "https://localhost:8080/",
          "height": 308
        },
        "id": "6QN8EcsZl8wz",
        "outputId": "dae7df85-0428-413e-fe4d-47e8fdb4e944"
      },
      "source": [
        "# Silhouette plot\n",
        "plt.style.use(\"fivethirtyeight\")\n",
        "plt.plot(range(2, 10), silhouette_coefficients)\n",
        "plt.xticks(range(2, 10))\n",
        "plt.xlabel(\"Number of Clusters\")\n",
        "plt.ylabel(\"Silhouette Coefficient\")\n",
        "plt.show()\n",
        "# plt.savefig(base_dir + 'test1.png')"
      ],
      "execution_count": null,
      "outputs": [
        {
          "output_type": "display_data",
          "data": {
            "image/png": "[encoded data removed]",
            "text/plain": [
              "<Figure size 432x288 with 1 Axes>"
            ]
          },
          "metadata": {}
        }
      ]
    },
    {
      "cell_type": "markdown",
      "source": [
        "The optimum number of clusters is 5 using the Silhouette plot; however, I wanted to compare the results of my implementation with their. Therefore, I have used 6 clusters in the K-means algorithm."
      ],
      "metadata": {
        "id": "mkdLV8sHSOyq"
      }
    },
    {
      "cell_type": "code",
      "metadata": {
        "colab": {
          "base_uri": "https://localhost:8080/",
          "height": 307
        },
        "id": "tJmbt5eVmAmR",
        "outputId": "4cc9824a-9298-4f44-bb05-d3f1b32aa26f"
      },
      "source": [
        "# Measuring the quality of clustering using NMI and confusion matrix\n",
        "kmeans = KMeans(n_clusters=6, **kmeans_kwargs)\n",
        "kmeans.fit(z)\n",
        "\n",
        "print(metrics.cluster.normalized_mutual_info_score(np.ndarray.astype(Groups, np.int), kmeans.labels_))\n",
        "CM = metrics.confusion_matrix(np.ndarray.astype(Groups, np.int), kmeans.labels_+1)\n",
        "\n",
        "df_cm = pd.DataFrame(CM, range(1, CM.shape[0]+1), range(1, CM.shape[1]+1))\n",
        "# plt.figure(figsize=(10,7))\n",
        "sn.set(font_scale=1.4) # for label size\n",
        "sn.heatmap(df_cm, annot=True, annot_kws={\"size\": 5}) # font size\n",
        "\n",
        "plt.show()"
      ],
      "execution_count": null,
      "outputs": [
        {
          "output_type": "stream",
          "text": [
            "0.6974356463464496\n"
          ],
          "name": "stdout"
        },
        {
          "output_type": "display_data",
          "data": {
            "image/png": "[encoded data removed]",
            "text/plain": [
              "<Figure size 432x288 with 2 Axes>"
            ]
          },
          "metadata": {}
        }
      ]
    },
    {
      "cell_type": "markdown",
      "source": [
        "As one can see, in the last figure, which is the confusion matrix, the true labels and labels resulted from the clustering of the cells are close. Also, the Normalized Mutual Information (NMI) score is near 0.7 which shows the good performance of the clustering. The NMI score resulted from my implementation is almost identical with the one resulted in the original implementation of the scvi."
      ],
      "metadata": {
        "id": "9FgdWVy5TDEV"
      }
    }
  ]
}